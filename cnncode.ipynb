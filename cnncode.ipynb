{
  "cells": [
    {
      "metadata": {
        "trusted": true
      },
      "cell_type": "code",
      "source": "from keras.models import Sequential\nfrom keras.layers import Convolution2D\nfrom keras.layers import MaxPooling2D\nfrom keras.layers import Flatten\nfrom keras.layers import Dense",
      "execution_count": 1,
      "outputs": [
        {
          "output_type": "stream",
          "text": "/home/nbuser/anaconda3_420/lib/python3.5/site-packages/h5py/__init__.py:36: FutureWarning: Conversion of the second argument of issubdtype from `float` to `np.floating` is deprecated. In future, it will be treated as `np.float64 == np.dtype(float).type`.\n  from ._conv import register_converters as _register_converters\nUsing TensorFlow backend.\n",
          "name": "stderr"
        }
      ]
    },
    {
      "metadata": {
        "trusted": true
      },
      "cell_type": "code",
      "source": "classifier = Sequential()\nclassifier.add(Convolution2D(32,3,3, input_shape = (64,64,3),activation = \"relu\"))\nclassifier.add(MaxPooling2D(pool_size = (2,2)))\nclassifier.add(Flatten())",
      "execution_count": 2,
      "outputs": [
        {
          "output_type": "stream",
          "text": "/home/nbuser/anaconda3_420/lib/python3.5/site-packages/ipykernel/__main__.py:2: UserWarning: Update your `Conv2D` call to the Keras 2 API: `Conv2D(32, (3, 3), activation=\"relu\", input_shape=(64, 64, 3...)`\n  from ipykernel import kernelapp as app\n",
          "name": "stderr"
        }
      ]
    },
    {
      "metadata": {
        "trusted": true
      },
      "cell_type": "code",
      "source": "classifier.add(Dense(output_dim = 128, activation = 'relu'))\nclassifier.add(Dense(output_dim = 1, activation = 'sigmoid'))\nclassifier.compile(optimizer = 'adam', \n                   loss = 'binary_crossentropy', \n                   metrics = ['accuracy'])",
      "execution_count": 3,
      "outputs": [
        {
          "output_type": "stream",
          "text": "/home/nbuser/anaconda3_420/lib/python3.5/site-packages/ipykernel/__main__.py:1: UserWarning: Update your `Dense` call to the Keras 2 API: `Dense(activation=\"relu\", units=128)`\n  if __name__ == '__main__':\n/home/nbuser/anaconda3_420/lib/python3.5/site-packages/ipykernel/__main__.py:2: UserWarning: Update your `Dense` call to the Keras 2 API: `Dense(activation=\"sigmoid\", units=1)`\n  from ipykernel import kernelapp as app\n",
          "name": "stderr"
        }
      ]
    },
    {
      "metadata": {
        "trusted": true
      },
      "cell_type": "code",
      "source": "from keras.preprocessing.image import ImageDataGenerator",
      "execution_count": 4,
      "outputs": []
    },
    {
      "metadata": {
        "trusted": true
      },
      "cell_type": "code",
      "source": "train_datagen = ImageDataGenerator(\n    rescale = 1./255,\n    shear_range=0.2,\n    zoom_range=0.2,\n    horizontal_flip = True)",
      "execution_count": 5,
      "outputs": []
    },
    {
      "metadata": {
        "trusted": true
      },
      "cell_type": "code",
      "source": "test_datagen = ImageDataGenerator(rescale = 1./255)",
      "execution_count": 6,
      "outputs": []
    },
    {
      "metadata": {
        "trusted": true
      },
      "cell_type": "code",
      "source": "training_set = train_datagen.flow_from_directory(\n    'dataset/training_set',\n    target_size=(64,64),\n    batch_size=5,\n    class_mode='binary')\n\ntest_set = test_datagen.flow_from_directory(\n    'dataset/test_set',\n    target_size=(64,64),\n    batch_size=5,\n    class_mode='binary')",
      "execution_count": 7,
      "outputs": [
        {
          "output_type": "stream",
          "text": "Found 17 images belonging to 2 classes.\nFound 14 images belonging to 2 classes.\n",
          "name": "stdout"
        }
      ]
    },
    {
      "metadata": {
        "trusted": true
      },
      "cell_type": "code",
      "source": "from IPython.display import display\nfrom PIL import Image\nclassifier.fit_generator(\n    training_set,\n    steps_per_epoch = 5,\n    epochs = 10,\n    validation_data = test_set,\n    validation_steps = 5)",
      "execution_count": 10,
      "outputs": [
        {
          "output_type": "stream",
          "text": "Epoch 1/10\n5/5 [==============================] - 11s - loss: 0.2358 - acc: 0.9591 - val_loss: 0.2758 - val_acc: 0.7917\nEpoch 2/10\n5/5 [==============================] - 8s - loss: 0.1613 - acc: 0.9182 - val_loss: 0.3298 - val_acc: 0.8333\nEpoch 3/10\n5/5 [==============================] - 10s - loss: 0.2057 - acc: 0.8773 - val_loss: 1.0328 - val_acc: 0.6667\nEpoch 4/10\n5/5 [==============================] - 10s - loss: 0.2241 - acc: 0.9079 - val_loss: 0.3828 - val_acc: 0.8750\nEpoch 5/10\n5/5 [==============================] - 8s - loss: 0.2744 - acc: 0.8364 - val_loss: 0.4165 - val_acc: 0.8333\nEpoch 6/10\n5/5 [==============================] - 8s - loss: 0.1067 - acc: 1.0000 - val_loss: 1.2148 - val_acc: 0.5833\nEpoch 7/10\n5/5 [==============================] - 9s - loss: 0.0899 - acc: 1.0000 - val_loss: 0.5971 - val_acc: 0.7917\nEpoch 8/10\n5/5 [==============================] - 9s - loss: 0.1958 - acc: 0.8658 - val_loss: 0.2237 - val_acc: 0.9583\nEpoch 9/10\n5/5 [==============================] - 9s - loss: 0.2100 - acc: 0.8682 - val_loss: 0.5118 - val_acc: 0.7500\nEpoch 10/10\n5/5 [==============================] - 7s - loss: 0.0479 - acc: 1.0000 - val_loss: 1.4087 - val_acc: 0.5000\n",
          "name": "stdout"
        },
        {
          "output_type": "execute_result",
          "execution_count": 10,
          "data": {
            "text/plain": "<keras.callbacks.History at 0x7f1f097a2e48>"
          },
          "metadata": {}
        }
      ]
    },
    {
      "metadata": {
        "trusted": true
      },
      "cell_type": "code",
      "source": "import numpy as np\nfrom keras.preprocessing import image\ntest_image = image.load_img('spot.png',target_size = (64,64))\ntest_image = image.img_to_array(test_image)\ntest_image = np.expand_dims(test_image,axis = 0)\nresult = classifier.predict(test_image)\ntraining_set.class_indices\nif result [0][0] == 0:\n    prediction = 'mango_powder'\nelse:\n    prediction = 'mango_spot'\nprint(prediction)",
      "execution_count": 9,
      "outputs": [
        {
          "output_type": "stream",
          "text": "mango_powder\n",
          "name": "stdout"
        }
      ]
    },
    {
      "metadata": {
        "trusted": true
      },
      "cell_type": "code",
      "source": "",
      "execution_count": null,
      "outputs": []
    }
  ],
  "metadata": {
    "kernelspec": {
      "name": "python3",
      "display_name": "Python 3",
      "language": "python"
    },
    "language_info": {
      "mimetype": "text/x-python",
      "nbconvert_exporter": "python",
      "name": "python",
      "pygments_lexer": "ipython3",
      "version": "3.5.4",
      "file_extension": ".py",
      "codemirror_mode": {
        "version": 3,
        "name": "ipython"
      }
    }
  },
  "nbformat": 4,
  "nbformat_minor": 1
}